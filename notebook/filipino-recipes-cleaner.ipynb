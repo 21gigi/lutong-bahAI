{
 "cells": [
  {
   "cell_type": "code",
   "execution_count": 1,
   "id": "33ebc380",
   "metadata": {},
   "outputs": [],
   "source": [
    "import pandas as pd"
   ]
  },
  {
   "cell_type": "code",
   "execution_count": 13,
   "id": "8cdb0a2e",
   "metadata": {},
   "outputs": [],
   "source": [
    "def clean_ingredients_list(ingredients_string):\n",
    "    \"\"\"\n",
    "    Cleans and converts a semicolon-separated string of ingredients into a list.\n",
    "    - Converts to lowercase\n",
    "    - Strips whitespace\n",
    "    - Removes empty strings\n",
    "    - Removes duplicates within the same recipe\n",
    "    \"\"\"\n",
    "    if pd.isna(ingredients_string):\n",
    "        return []\n",
    "\n",
    "    ingredients_list = ingredients_string.split(';')\n",
    "\n",
    "    # Lowercase + strip + remove empty\n",
    "    cleaned_list = [item.strip().lower() for item in ingredients_list if item.strip()]\n",
    "\n",
    "    # Optional: remove duplicates while keeping order\n",
    "    cleaned_list = list(dict.fromkeys(cleaned_list))\n",
    "\n",
    "    return cleaned_list"
   ]
  },
  {
   "cell_type": "code",
   "execution_count": 14,
   "id": "fff0045b",
   "metadata": {},
   "outputs": [],
   "source": [
    "df = pd.read_csv('recipes_data.csv')\n",
    "\n",
    "# Fill NaN values first to prevent an error with the .split() method\n",
    "df['ingredients'] = df['ingredients'].fillna('').apply(clean_ingredients_list)\n",
    "\n",
    "# Fill any remaining missing values in the 'instructions' column\n",
    "df['instructions'] = df['instructions'].fillna('N/A')\n",
    "\n",
    "# Save the cleaned DataFrame to a new CSV file\n",
    "df.to_csv('cleaned_recipes.csv', index=False)"
   ]
  },
  {
   "cell_type": "code",
   "execution_count": 15,
   "id": "62df31d9",
   "metadata": {},
   "outputs": [
    {
     "name": "stdout",
     "output_type": "stream",
     "text": [
      "First 5 rows of the cleaned data:\n",
      "                                               title  \\\n",
      "0                    Creamy Tomato and Spinach Pasta   \n",
      "1  Tulingan Bistek (Braised Bullet Tuna in Soy Sa...   \n",
      "2                    Ginisang Sitaw with Bell Pepper   \n",
      "3                                           Sarciado   \n",
      "4  Creamy Coconut Milk Fish Stew (Ginataang Isda ...   \n",
      "\n",
      "                                         ingredients  \\\n",
      "0  [linguine, extra virgin olive oil, garlic, oni...   \n",
      "1  [tulingan, calamansi, garlic, ginger, green on...   \n",
      "2  [string beans, pork belly, red bell pepper, to...   \n",
      "3  [fish, maggi magic sarap, onion, tomatoes, gar...   \n",
      "4  [round scad, coconut milk, baby bok choy, chin...   \n",
      "\n",
      "                                        instructions  \\\n",
      "0  Heat the olive oil in a large pan over medium ...   \n",
      "1  Combine tulingan, calamansi juice, soy sauce, ...   \n",
      "2  Heat a wok over medium heat. Add the pork bell...   \n",
      "3  Rub Maggi Magic Sarap all over the fish. Heat ...   \n",
      "4  Rub Maggi Magic Sarap all over the fish. Let i...   \n",
      "\n",
      "                                                 url  \n",
      "0  https://panlasangpinoy.com/creamy-tomato-and-s...  \n",
      "1  https://panlasangpinoy.com/tulingan-bistek-bra...  \n",
      "2  https://panlasangpinoy.com/ginisang-sitaw-with...  \n",
      "3               https://panlasangpinoy.com/sarciado/  \n",
      "4  https://panlasangpinoy.com/creamy-coconut-milk...  \n"
     ]
    }
   ],
   "source": [
    "# Display the first 5 rows to verify the changes\n",
    "print(\"First 5 rows of the cleaned data:\")\n",
    "print(df.head())"
   ]
  },
  {
   "cell_type": "code",
   "execution_count": 16,
   "id": "f0a71914",
   "metadata": {},
   "outputs": [
    {
     "name": "stdout",
     "output_type": "stream",
     "text": [
      "\n",
      "DataFrame information after cleaning:\n",
      "<class 'pandas.core.frame.DataFrame'>\n",
      "RangeIndex: 2008 entries, 0 to 2007\n",
      "Data columns (total 4 columns):\n",
      " #   Column        Non-Null Count  Dtype \n",
      "---  ------        --------------  ----- \n",
      " 0   title         2008 non-null   object\n",
      " 1   ingredients   2008 non-null   object\n",
      " 2   instructions  2008 non-null   object\n",
      " 3   url           2008 non-null   object\n",
      "dtypes: object(4)\n",
      "memory usage: 62.9+ KB\n",
      "None\n"
     ]
    }
   ],
   "source": [
    "# Check the data types and non-null counts\n",
    "print(\"\\nDataFrame information after cleaning:\")\n",
    "print(df.info())"
   ]
  }
 ],
 "metadata": {
  "kernelspec": {
   "display_name": "Python 3",
   "language": "python",
   "name": "python3"
  },
  "language_info": {
   "codemirror_mode": {
    "name": "ipython",
    "version": 3
   },
   "file_extension": ".py",
   "mimetype": "text/x-python",
   "name": "python",
   "nbconvert_exporter": "python",
   "pygments_lexer": "ipython3",
   "version": "3.13.7"
  }
 },
 "nbformat": 4,
 "nbformat_minor": 5
}
